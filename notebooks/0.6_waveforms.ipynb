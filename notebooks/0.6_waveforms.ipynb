{
 "cells": [
  {
   "cell_type": "code",
   "execution_count": null,
   "id": "b52a5ede",
   "metadata": {},
   "outputs": [],
   "source": [
    "from DeepFMKit.physics import LaserConfig\n",
    "from DeepFMKit.waveforms import *\n",
    "import matplotlib.pyplot as plt\n",
    "\n",
    "# --- Create a LaserConfig using the default waveform ---\n",
    "laser = LaserConfig(label=\"default\")\n",
    "laser.f_mod = 1000.0\n",
    "laser.df = 3e9\n",
    "\n",
    "# --- Visualize the waveform with a single command ---\n",
    "axes = laser.plot_waveform()\n",
    "plt.show()\n"
   ]
  },
  {
   "cell_type": "code",
   "execution_count": null,
   "id": "c4ae425b",
   "metadata": {},
   "outputs": [],
   "source": [
    "las = LaserConfig(label='noisy_laser_modulation')\n",
    "las.fmod = 1000\n",
    "las.df_n = 1e5\n",
    "\n",
    "ax = las.plot(noise_seed=1)\n",
    "plt.show()"
   ]
  },
  {
   "cell_type": "code",
   "execution_count": null,
   "id": "07bc9b5d",
   "metadata": {},
   "outputs": [],
   "source": [
    "las = LaserConfig(label='noisy_laser_frequency')\n",
    "las.fmod = 1000\n",
    "las.f_n = 3e9\n",
    "\n",
    "ax = las.plot(noise_seed=1)\n",
    "plt.show()"
   ]
  },
  {
   "cell_type": "code",
   "execution_count": null,
   "id": "401f4fbf",
   "metadata": {},
   "outputs": [],
   "source": [
    "# --- Create a LaserConfig using the custom waveform ---\n",
    "laser = LaserConfig(label=\"triangle_wave\")\n",
    "laser.f_mod = 1000.0\n",
    "laser.df = 3e9\n",
    "laser.waveform_func = triangle_wave\n",
    "laser.waveform_kwargs = {'width': 0.5}\n",
    "\n",
    "# --- Visualize the waveform with a single command ---\n",
    "axes = laser.plot_waveform()\n",
    "plt.show()"
   ]
  },
  {
   "cell_type": "code",
   "execution_count": null,
   "id": "6deec9a9",
   "metadata": {},
   "outputs": [],
   "source": [
    "laser = LaserConfig(label=\"square_wave\")\n",
    "laser.f_mod = 1000.0\n",
    "laser.df = 3e9\n",
    "laser.waveform_func = square_wave\n",
    "laser.waveform_kwargs = {'duty': 0.5}\n",
    "\n",
    "axes = laser.plot_waveform()\n",
    "plt.show()"
   ]
  },
  {
   "cell_type": "code",
   "execution_count": null,
   "id": "0c1f4d39",
   "metadata": {},
   "outputs": [],
   "source": [
    "laser = LaserConfig(label=\"second_harmonic_distortion\")\n",
    "laser.f_mod = 1000.0\n",
    "laser.df = 3e9\n",
    "laser.waveform_func = second_harmonic_distortion\n",
    "laser.waveform_kwargs = {'distortion_amp': 0.5, 'distortion_phase': 0.0}\n",
    "\n",
    "axes = laser.plot_waveform()\n",
    "plt.show()"
   ]
  },
  {
   "cell_type": "code",
   "execution_count": null,
   "id": "a4adca2a",
   "metadata": {},
   "outputs": [],
   "source": [
    "laser = LaserConfig(label=\"dfm_wave\")\n",
    "laser.f_mod = 1000.0\n",
    "laser.df = 3e9\n",
    "laser.waveform_func = dfm_wave\n",
    "laser.waveform_kwargs = {'m': 10.5, 'phi': 0.0}\n",
    "\n",
    "axes = laser.plot_waveform()\n",
    "plt.show()"
   ]
  },
  {
   "cell_type": "code",
   "execution_count": null,
   "id": "614b5739",
   "metadata": {},
   "outputs": [],
   "source": []
  },
  {
   "cell_type": "code",
   "execution_count": null,
   "id": "9d0e1def",
   "metadata": {},
   "outputs": [],
   "source": []
  }
 ],
 "metadata": {
  "kernelspec": {
   "display_name": "main",
   "language": "python",
   "name": "python3"
  },
  "language_info": {
   "codemirror_mode": {
    "name": "ipython",
    "version": 3
   },
   "file_extension": ".py",
   "mimetype": "text/x-python",
   "name": "python",
   "nbconvert_exporter": "python",
   "pygments_lexer": "ipython3",
   "version": "3.12.0"
  }
 },
 "nbformat": 4,
 "nbformat_minor": 5
}
