{
 "cells": [
  {
   "cell_type": "code",
   "execution_count": null,
   "id": "b4fddfdf",
   "metadata": {},
   "outputs": [],
   "source": [
    "import DeepFMKit.physics as physics\n",
    "from DeepFMKit.helpers import set_laser_df_for_effect\n",
    "from DeepFMKit.fitters import StandardNLSFitter, EKFFitter\n",
    "\n",
    "import numpy as np\n",
    "import matplotlib.pyplot as plt\n",
    "import matplotlib.cm as cm\n",
    "from tqdm import tqdm"
   ]
  },
  {
   "cell_type": "code",
   "execution_count": null,
   "id": "386df1a4",
   "metadata": {},
   "outputs": [],
   "source": [
    "f_samp = 200e3\n",
    "f_mod = 1e3\n",
    "\n",
    "laser = physics.LaserConfig()\n",
    "laser.f_mod = f_mod\n",
    "\n",
    "ifo = physics.InterferometerConfig()\n",
    "main = physics.DFMIObject(label='Hello', laser_config=laser, ifo_config=ifo, f_samp=f_samp)\n",
    "sg = physics.SignalGenerator()\n",
    "\n",
    "set_laser_df_for_effect(laser, ifo, 6.)"
   ]
  },
  {
   "cell_type": "code",
   "execution_count": null,
   "id": "1b2b57e8",
   "metadata": {},
   "outputs": [],
   "source": [
    "dB_list = np.linspace(20,120,40)\n",
    "\n",
    "viridis = cm.get_cmap('viridis_r', len(dB_list))  # 6 colors for 6 curves\n",
    "\n",
    "fig, ax = plt.subplots(figsize=(4,2), dpi=300)\n",
    "for i, dB in enumerate(dB_list):\n",
    "    raw = sg.generate(main, n_seconds=1/f_mod, mode='snr', snr_db=dB, trial_num=3)['main']\n",
    "    ax = raw.plot(ax=ax, ls='--', lw=0.8, color=viridis(i))\n",
    "    ax.grid(False)\n",
    "\n",
    "plt.show()"
   ]
  },
  {
   "cell_type": "code",
   "execution_count": null,
   "id": "ad45967d",
   "metadata": {},
   "outputs": [],
   "source": [
    "nls = StandardNLSFitter({'n': 1, 'ndata': 15})\n",
    "ekf = EKFFitter({'n': 1})\n",
    "\n",
    "print(nls.fit(raw, parallel=False))\n",
    "print(ekf.fit(raw, verbose=False))"
   ]
  },
  {
   "cell_type": "code",
   "execution_count": null,
   "id": "e4f67b99",
   "metadata": {},
   "outputs": [],
   "source": [
    "# Calculate R (raw samples per fit buffer) based on the sampling frequency\n",
    "B = int(f_samp / laser.f_mod)\n",
    "\n",
    "# Calculate the actual simulation time in seconds.\n",
    "n_seconds_to_simulate = B / f_samp"
   ]
  },
  {
   "cell_type": "code",
   "execution_count": null,
   "id": "78ee758e",
   "metadata": {},
   "outputs": [],
   "source": [
    "from joblib import Parallel, delayed\n",
    "\n",
    "num_trials = 500\n",
    "\n",
    "def process_trial(dB, trial_num):\n",
    "    raw = sg.generate(main, n_seconds=1/f_mod, mode='snr', snr_db=dB, trial_num=trial_num)['main']\n",
    "    df_nls = nls.fit(raw, parallel=False)\n",
    "    df_ekf = ekf.fit(raw, verbose=False)\n",
    "    return df_nls['m'].iloc[0], df_ekf['m'].iloc[0]\n",
    "\n",
    "nls_result = []\n",
    "ekf_result = []\n",
    "\n",
    "for dB in tqdm(dB_list):\n",
    "    results = Parallel(n_jobs=-1, backend='loky')(\n",
    "        delayed(process_trial)(dB, j) for j in range(num_trials)\n",
    "    )\n",
    "    nls_result.append([r[0] for r in results])\n",
    "    ekf_result.append([r[1] for r in results])"
   ]
  },
  {
   "cell_type": "code",
   "execution_count": null,
   "id": "b59598d7",
   "metadata": {},
   "outputs": [],
   "source": [
    "nls_var = []\n",
    "ekf_var = []\n",
    "\n",
    "for i, dB in enumerate(dB_list):\n",
    "    nls_var.append(np.var(nls_result[i]))\n",
    "    ekf_var.append(np.var(ekf_result[i]))"
   ]
  },
  {
   "cell_type": "code",
   "execution_count": null,
   "id": "f95b32ca",
   "metadata": {},
   "outputs": [],
   "source": [
    "fig, ax = plt.subplots(figsize=(3,2))\n",
    "\n",
    "ax.semilogy(dB_list, 2*B*np.array(nls_var), label='NLS')\n",
    "ax.semilogy(dB_list, 2*B*np.array(ekf_var), label='EKF', ls='--')\n",
    "ax.semilogy(dB_list, (np.sqrt(8)/10**(dB_list/20))**2, ls=':', label='CRLB')\n",
    "\n",
    "ax.legend(edgecolor='k', framealpha=1)\n",
    "ax.set_xlabel('Voltage SNR (dB)')\n",
    "ax.set_ylabel(r'Variance $\\delta m^2$')\n",
    "plt.show()"
   ]
  },
  {
   "cell_type": "code",
   "execution_count": null,
   "id": "66cd5f70",
   "metadata": {},
   "outputs": [],
   "source": []
  },
  {
   "cell_type": "code",
   "execution_count": null,
   "id": "6c6ae52e",
   "metadata": {},
   "outputs": [],
   "source": []
  }
 ],
 "metadata": {
  "kernelspec": {
   "display_name": "main",
   "language": "python",
   "name": "python3"
  },
  "language_info": {
   "codemirror_mode": {
    "name": "ipython",
    "version": 3
   },
   "file_extension": ".py",
   "mimetype": "text/x-python",
   "name": "python",
   "nbconvert_exporter": "python",
   "pygments_lexer": "ipython3",
   "version": "3.12.0"
  }
 },
 "nbformat": 4,
 "nbformat_minor": 5
}
