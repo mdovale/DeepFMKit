{
 "cells": [
  {
   "cell_type": "code",
   "execution_count": null,
   "id": "3678ea8e",
   "metadata": {},
   "outputs": [],
   "source": [
    "from DeepFMKit.core import DeepFitFramework\n",
    "import matplotlib.pyplot as plt\n",
    "\n",
    "dff = DeepFitFramework()\n",
    "\n",
    "# Create a `DeepSimObject` describing an interferometer\n",
    "label = \"my_sim\"\n",
    "dff.new_sim(label)\n",
    "dff.sims[label].m = 6.0\n",
    "dff.sims[label].f_mod = 1000\n",
    "dff.sims[label].f_samp = int(200e3)\n",
    "dff.sims[label].f_n = 1e6\n",
    "dff.sims[label].arml_mod_f = 1.0\n",
    "dff.sims[label].arml_mod_amp = 1e-9\n",
    "dff.sims[label].arml_mod_n = 1e-12\n",
    "dff.sims[label].fit_n = 10\n",
    "\n",
    "# Simulate DFM interferometer with test mass motion and a reference channel\n",
    "dff.simulate(label, n_seconds=3, simulate=\"dynamic\", ref_channel=False)\n",
    "\n",
    "# Print system information\n",
    "dff.sims[label].info()\n",
    "\n",
    "# NLS fit\n",
    "dff.fit(label=\"my_sim\", fit_label=\"my_sim_nls\")"
   ]
  },
  {
   "cell_type": "code",
   "execution_count": null,
   "id": "5436c04d",
   "metadata": {},
   "outputs": [],
   "source": [
    "# Run the EKF with default tuning parameters\n",
    "dff.fit_ekf(label=\"my_sim\", fit_label=\"my_sim_ekf\")\n",
    "\n",
    "# Run with custom tuning\n",
    "custom_Q = [1e-9, 1e-9, 1e-7, 1e-7, 1e-9]\n",
    "custom_R = 0.001\n",
    "dff.fit_ekf(label=\"my_sim\", fit_label=\"my_sim_ekf_tuned\", Q_diag=custom_Q, R_val=custom_R)"
   ]
  },
  {
   "cell_type": "code",
   "execution_count": null,
   "id": "63f3498d",
   "metadata": {},
   "outputs": [],
   "source": [
    "ax = dff.plot(labels=['my_sim_nls', 'my_sim_ekf', 'my_sim_ekf_tuned'])\n",
    "ax[0].legend()\n",
    "plt.show()"
   ]
  },
  {
   "cell_type": "code",
   "execution_count": null,
   "id": "37b6962e",
   "metadata": {},
   "outputs": [],
   "source": []
  }
 ],
 "metadata": {
  "kernelspec": {
   "display_name": "main",
   "language": "python",
   "name": "python3"
  },
  "language_info": {
   "codemirror_mode": {
    "name": "ipython",
    "version": 3
   },
   "file_extension": ".py",
   "mimetype": "text/x-python",
   "name": "python",
   "nbconvert_exporter": "python",
   "pygments_lexer": "ipython3",
   "version": "3.12.0"
  }
 },
 "nbformat": 4,
 "nbformat_minor": 5
}
