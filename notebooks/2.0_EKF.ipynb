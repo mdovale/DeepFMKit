{
 "cells": [
  {
   "cell_type": "code",
   "execution_count": null,
   "id": "3678ea8e",
   "metadata": {},
   "outputs": [],
   "source": [
    "import DeepFMKit.core as dfm\n",
    "import matplotlib.pyplot as plt\n",
    "import numpy as np\n",
    "import scipy.constants as sc\n",
    "\n",
    "# Instantiate the main framework\n",
    "dff = dfm.DeepFitFramework()\n",
    "\n",
    "# --- 1. Define the Single, Shared Laser Source ---\n",
    "laser_config = dfm.LaserConfig(label=\"main_laser\")\n",
    "laser_config.f_mod = 1000 # Modulation frequency (Hz)\n",
    "laser_config.f_n = 1e6 # Laser frequency noise at 1 Hz (Hz/rtHz)\n",
    "laser_config.amp_n = 1e-5 # Laser amplitude noise (1/rtHz)\n",
    "\n",
    "# --- 2. Define the Main Interferometer ---\n",
    "main_ifo_config = dfm.InterferometerConfig(label=\"dynamic_ifo\")\n",
    "main_ifo_config.ref_arml = 0.1 # Reference arm length (m)\n",
    "main_ifo_config.meas_arml = 0.3 # Measurement arm length (m)\n",
    "main_ifo_config.arml_mod_f = 1.0 # Measurement arm modulation frequency (Hz)\n",
    "main_ifo_config.arml_mod_amp = 0. # Armlength modulation amplitude (m)\n",
    "main_ifo_config.arml_mod_n = 0. # Armlength modulation amplitude noise (m/rtHz)\n",
    "\n",
    "# --- 3. Set Modulation Depth by Adjusting Laser's `df` ---\n",
    "m_target = 6.0 # Target effective modulation index (rad)\n",
    "opd = main_ifo_config.meas_arml - main_ifo_config.ref_arml # Optical pathlength difference (m)\n",
    "df_required = (m_target * sc.c) / (2 * np.pi * opd) # Required laser modulation amplitude (Hz)\n",
    "laser_config.df = df_required\n",
    "\n",
    "# --- 4. Compose the Main Channel ---\n",
    "main_label = \"dynamic_channel\"\n",
    "main_channel = dfm.DFMIObject(\n",
    "    label=main_label,\n",
    "    laser_config=laser_config,\n",
    "    ifo_config=main_ifo_config,\n",
    "    f_samp=int(200e3) # Sampling frequency (Hz)\n",
    ")\n",
    "dff.sims[main_label] = main_channel\n",
    "\n",
    "# --- 6. Simulate ---\n",
    "dff.simulate(\n",
    "    main_label=main_label,\n",
    "    n_seconds=2 # Simulation length in seconds\n",
    ")\n",
    "\n",
    "# NLS fit\n",
    "dff.fit(label=main_label, fit_label=\"nls\", n=20)"
   ]
  },
  {
   "cell_type": "code",
   "execution_count": null,
   "id": "182472ab",
   "metadata": {},
   "outputs": [],
   "source": [
    "dff.raws['dynamic_channel'].sim.laser"
   ]
  },
  {
   "cell_type": "code",
   "execution_count": null,
   "id": "5436c04d",
   "metadata": {},
   "outputs": [],
   "source": [
    "# Run the EKF with default tuning parameters\n",
    "dff.fit_ekf(label=main_label, fit_label=\"ekf\")\n",
    "\n",
    "# Run with custom tuning\n",
    "custom_Q = [1e-9, 1e-9, 1e-7, 1e-7, 1e-9]\n",
    "custom_R = 0.001\n",
    "dff.fit_ekf(label=main_label, fit_label=\"ekf_tuned\", Q_diag=custom_Q, R_val=custom_R)"
   ]
  },
  {
   "cell_type": "code",
   "execution_count": null,
   "id": "63f3498d",
   "metadata": {},
   "outputs": [],
   "source": [
    "ax = dff.plot(labels=['nls', 'ekf', 'ekf_tuned'])\n",
    "ax[0].legend()\n",
    "plt.show()"
   ]
  },
  {
   "cell_type": "code",
   "execution_count": null,
   "id": "37b6962e",
   "metadata": {},
   "outputs": [],
   "source": []
  }
 ],
 "metadata": {
  "kernelspec": {
   "display_name": "main",
   "language": "python",
   "name": "python3"
  },
  "language_info": {
   "codemirror_mode": {
    "name": "ipython",
    "version": 3
   },
   "file_extension": ".py",
   "mimetype": "text/x-python",
   "name": "python",
   "nbconvert_exporter": "python",
   "pygments_lexer": "ipython3",
   "version": "3.12.0"
  }
 },
 "nbformat": 4,
 "nbformat_minor": 5
}
