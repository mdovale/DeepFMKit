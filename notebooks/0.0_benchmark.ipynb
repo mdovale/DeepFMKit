{
 "cells": [
  {
   "cell_type": "code",
   "execution_count": null,
   "id": "290421b5",
   "metadata": {},
   "outputs": [],
   "source": [
    "from DeepFMKit.core import DeepFitFramework\n",
    "import DeepFMKit.fit as fit"
   ]
  },
  {
   "cell_type": "code",
   "execution_count": null,
   "id": "5b4acc7b",
   "metadata": {},
   "outputs": [],
   "source": [
    "fit.MAX_LMA_STEPS = 100\n",
    "fit.LMA_CONVERGENCE_IMPROVE = 1e-9  # Min improvement in SSQ to continue\n",
    "fit.LMA_CONVERGENCE_PARAM_CHANGE = 1e-9 # Min change in parameter vector norm\n",
    "fit.FITOK_THRESHOLD = 1e-3\n",
    "fit.M_GRID_MIN = 5.0\n",
    "fit.M_GRID_MAX = 30.0\n",
    "fit.M_GRID_STEP = 0.5\n",
    "fit.BESSEL_AMP_THRESHOLD = 0.05\n",
    "fit.SINCOS_AMP_THRESHOLD = 0.1"
   ]
  },
  {
   "cell_type": "code",
   "execution_count": null,
   "id": "b2270927",
   "metadata": {},
   "outputs": [],
   "source": [
    "dff = DeepFitFramework(raw_file='../test/raw_data.txt', raw_labels=['raw1'])"
   ]
  },
  {
   "cell_type": "code",
   "execution_count": null,
   "id": "c1d026bf",
   "metadata": {},
   "outputs": [],
   "source": [
    "dff.raws['raw1'].info()"
   ]
  },
  {
   "cell_type": "code",
   "execution_count": null,
   "id": "1692d43d",
   "metadata": {},
   "outputs": [],
   "source": [
    "import time\n",
    "\n",
    "start = time.perf_counter()\n",
    "\n",
    "dff.fit('raw1', n=20, parallel=False)\n",
    "\n",
    "end = time.perf_counter()\n",
    "print(f\"Elapsed time: {end - start:.6f} seconds\")"
   ]
  },
  {
   "cell_type": "code",
   "execution_count": null,
   "id": "e73b5539",
   "metadata": {},
   "outputs": [],
   "source": [
    "dff.load_fit('../test/fit_data.txt', labels=['reference_fit'])"
   ]
  },
  {
   "cell_type": "code",
   "execution_count": null,
   "id": "863b17e7",
   "metadata": {},
   "outputs": [],
   "source": [
    "dff.fits"
   ]
  },
  {
   "cell_type": "code",
   "execution_count": null,
   "id": "eee48b68",
   "metadata": {},
   "outputs": [],
   "source": [
    "dff.plot_comparison('raw1_nls', 'reference_fit')"
   ]
  },
  {
   "cell_type": "code",
   "execution_count": null,
   "id": "cbbb8938",
   "metadata": {},
   "outputs": [],
   "source": [
    "dff.plot_diff('raw1_nls', 'reference_fit')"
   ]
  },
  {
   "cell_type": "code",
   "execution_count": null,
   "id": "df7acc39",
   "metadata": {},
   "outputs": [],
   "source": []
  }
 ],
 "metadata": {
  "kernelspec": {
   "display_name": "main",
   "language": "python",
   "name": "python3"
  },
  "language_info": {
   "codemirror_mode": {
    "name": "ipython",
    "version": 3
   },
   "file_extension": ".py",
   "mimetype": "text/x-python",
   "name": "python",
   "nbconvert_exporter": "python",
   "pygments_lexer": "ipython3",
   "version": "3.12.0"
  }
 },
 "nbformat": 4,
 "nbformat_minor": 5
}
