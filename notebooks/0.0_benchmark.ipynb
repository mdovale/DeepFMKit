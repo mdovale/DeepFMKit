{
 "cells": [
  {
   "cell_type": "code",
   "execution_count": null,
   "id": "290421b5",
   "metadata": {},
   "outputs": [],
   "source": [
    "from DeepFMKit.core import DeepFitFramework\n",
    "import DeepFMKit.fit as fit"
   ]
  },
  {
   "cell_type": "code",
   "execution_count": null,
   "id": "5b4acc7b",
   "metadata": {},
   "outputs": [],
   "source": [
    "fit.NPARMS = 4\n",
    "fit.GRAD = 180./3.1415926535\n",
    "fit.PI = 3.1415926535\n",
    "fit.MAXDATA = 20\n",
    "fit.LAMBDA_MIN = 1e-10\n",
    "fit.LAMBDA_MAX = 1e6\n",
    "fit.BRENT_TOL = 1e-2\n",
    "fit.MAR_END = 1e-15\n",
    "fit.MMIN = 5\n",
    "fit.MMAX = 10\n",
    "fit.MSTEP = 0.1\n",
    "fit.FITOK = 1e-3\n",
    "fit.BESLIM = 0.05\n",
    "fit.SINLIM = 0.1\n",
    "fit.MAXMARSTEP = 50\n",
    "fit.PSI = 1\n"
   ]
  },
  {
   "cell_type": "code",
   "execution_count": null,
   "id": "b2270927",
   "metadata": {},
   "outputs": [],
   "source": [
    "dff = DeepFitFramework(raw_file='../test/raw_data.txt', raw_labels=['raw1'])"
   ]
  },
  {
   "cell_type": "code",
   "execution_count": null,
   "id": "1692d43d",
   "metadata": {},
   "outputs": [],
   "source": [
    "import time\n",
    "\n",
    "start = time.perf_counter()\n",
    "\n",
    "dff.fit('raw1', n=20)\n",
    "\n",
    "end = time.perf_counter()\n",
    "print(f\"Elapsed time: {end - start:.6f} seconds\")"
   ]
  },
  {
   "cell_type": "markdown",
   "id": "17612f2e",
   "metadata": {},
   "source": [
    "### Results\n",
    "\n",
    "8.6 seconds in initial commit"
   ]
  },
  {
   "cell_type": "code",
   "execution_count": null,
   "id": "e73b5539",
   "metadata": {},
   "outputs": [],
   "source": [
    "dff.load_fit('../test/fit_data.txt', labels=['reference_fit'])"
   ]
  },
  {
   "cell_type": "code",
   "execution_count": null,
   "id": "863b17e7",
   "metadata": {},
   "outputs": [],
   "source": [
    "dff.fits"
   ]
  },
  {
   "cell_type": "code",
   "execution_count": null,
   "id": "eee48b68",
   "metadata": {},
   "outputs": [],
   "source": [
    "dff.plot_comparison('raw1_fit', 'reference_fit')"
   ]
  },
  {
   "cell_type": "code",
   "execution_count": null,
   "id": "cbbb8938",
   "metadata": {},
   "outputs": [],
   "source": [
    "dff.plot_diff('raw1_fit', 'reference_fit')"
   ]
  },
  {
   "cell_type": "code",
   "execution_count": null,
   "id": "df7acc39",
   "metadata": {},
   "outputs": [],
   "source": []
  }
 ],
 "metadata": {
  "kernelspec": {
   "display_name": "main",
   "language": "python",
   "name": "python3"
  },
  "language_info": {
   "codemirror_mode": {
    "name": "ipython",
    "version": 3
   },
   "file_extension": ".py",
   "mimetype": "text/x-python",
   "name": "python",
   "nbconvert_exporter": "python",
   "pygments_lexer": "ipython3",
   "version": "3.12.0"
  }
 },
 "nbformat": 4,
 "nbformat_minor": 5
}
