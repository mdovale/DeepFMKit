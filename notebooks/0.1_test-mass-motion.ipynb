{
 "cells": [
  {
   "cell_type": "code",
   "execution_count": null,
   "id": "82cd934e",
   "metadata": {},
   "outputs": [],
   "source": [
    "from DeepFMKit.core import DeepFitFramework\n",
    "import DeepFMKit.plotting as plot\n",
    "\n",
    "import numpy as np\n",
    "import matplotlib.pyplot as plt\n",
    "from spectools.lpsd import lpsd"
   ]
  },
  {
   "cell_type": "code",
   "execution_count": null,
   "id": "5043ce7a",
   "metadata": {},
   "outputs": [],
   "source": [
    "dff = DeepFitFramework()\n",
    "\n",
    "label = \"dynamic\"\n",
    "dff.new_sim(label)\n",
    "dff.sims[label].m = 6.0\n",
    "dff.sims[label].f_mod = 1000\n",
    "dff.sims[label].f_samp = int(200e3)\n",
    "dff.sims[label].f_n = 1e6\n",
    "dff.sims[label].arml_mod_f = 1.0\n",
    "dff.sims[label].arml_mod_amp = 1e-9\n",
    "dff.sims[label].arml_mod_n = 1e-12\n",
    "dff.sims[label].fit_n = 10\n",
    "\n",
    "dff.simulate(label, n_seconds=60, simulate=\"dynamic\", ref_channel=True)\n",
    "\n",
    "dff.sims[label].info()"
   ]
  },
  {
   "cell_type": "code",
   "execution_count": null,
   "id": "ce8aa84e",
   "metadata": {},
   "outputs": [],
   "source": [
    "for i, key in enumerate(dff.sims):\n",
    "    dff.fit(label=key, fit_label=f'ch{i}')"
   ]
  },
  {
   "cell_type": "code",
   "execution_count": null,
   "id": "43828591",
   "metadata": {},
   "outputs": [],
   "source": [
    "dff.plot()"
   ]
  },
  {
   "cell_type": "code",
   "execution_count": null,
   "id": "9e68047c",
   "metadata": {},
   "outputs": [],
   "source": [
    "fig, ax = plt.subplots(figsize=(20,5))\n",
    "\n",
    "ax.plot(dff.raws[\"dynamic\"].phi_sim_downsamp-np.mean(dff.raws[\"dynamic\"].phi_sim_downsamp))\n",
    "ax.plot(dff.fits['ch0'].phi-dff.fits['ch1'].phi)\n",
    "\n",
    "plt.show()"
   ]
  },
  {
   "cell_type": "code",
   "execution_count": null,
   "id": "7f69d550",
   "metadata": {},
   "outputs": [],
   "source": [
    "fig, ax = plt.subplots(figsize=(20,5))\n",
    "\n",
    "ax.plot(dff.fits['ch0'].m-dff.fits['ch1'].m)\n",
    "\n",
    "plt.show()"
   ]
  },
  {
   "cell_type": "code",
   "execution_count": null,
   "id": "e247d500",
   "metadata": {},
   "outputs": [],
   "source": [
    "f_fit = dff.sims[\"dynamic\"].f_fit\n",
    "\n",
    "f2, _, psd2, _, _, _ = lpsd(dff.fits['ch0'].phi, fs=f_fit, bmin=1, return_type='legacy')\n",
    "f3, _, psd3, _, _, _ = lpsd(dff.fits['ch1'].phi, fs=f_fit, bmin=1, return_type='legacy')\n",
    "f4, _, psd4, _, _, _ = lpsd(dff.fits['ch0'].phi - dff.fits['ch1'].phi, fs=f_fit, bmin=1, return_type='legacy')\n",
    "f5, _, psd5, _, _, _ = lpsd((dff.fits['ch0'].phi - dff.fits['ch1'].phi) + dff.raws[\"dynamic\"].phi_sim_downsamp, fs=f_fit, bmin=1, return_type='legacy')\n",
    "\n",
    "fig, ax = plot.asd_plot([f2, f3, f4, f5], [psd2, psd3, psd4, psd5], label_list=[\"ch0\", \"ch1 (ref)\", \"ch0 - ch1\", \"ch0 - ch1 - phi\"], psd=True)"
   ]
  },
  {
   "cell_type": "code",
   "execution_count": null,
   "id": "505b368c",
   "metadata": {},
   "outputs": [],
   "source": [
    "f1, _, psd1, _, _, _ = lpsd(dff.fits['ch0'].m, fs=f_fit, bmin=1, return_type='legacy')\n",
    "f2, _, psd2, _, _, _ = lpsd(dff.fits['ch1'].m, fs=f_fit, bmin=1, return_type='legacy')\n",
    "f3, _, psd3, _, _, _ = lpsd((dff.fits['ch0'].m-dff.fits['ch1'].m), fs=f_fit, bmin=1, return_type='legacy')\n",
    "\n",
    "fig, ax = plot.asd_plot([f1,f2,f3], [psd1,psd2,psd3], label_list=[\"m_ch0\", \"m_ch1\", \"m_ch0-m_ch1\"], psd=True)"
   ]
  },
  {
   "cell_type": "code",
   "execution_count": null,
   "id": "cf5bc698",
   "metadata": {},
   "outputs": [],
   "source": []
  }
 ],
 "metadata": {
  "kernelspec": {
   "display_name": "main",
   "language": "python",
   "name": "python3"
  },
  "language_info": {
   "codemirror_mode": {
    "name": "ipython",
    "version": 3
   },
   "file_extension": ".py",
   "mimetype": "text/x-python",
   "name": "python",
   "nbconvert_exporter": "python",
   "pygments_lexer": "ipython3",
   "version": "3.12.0"
  }
 },
 "nbformat": 4,
 "nbformat_minor": 5
}
