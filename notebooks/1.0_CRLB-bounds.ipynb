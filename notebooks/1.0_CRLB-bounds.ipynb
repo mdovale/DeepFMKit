{
 "cells": [
  {
   "cell_type": "code",
   "execution_count": null,
   "id": "38863d43",
   "metadata": {},
   "outputs": [],
   "source": [
    "from DeepFMKit.helpers import calculate_m_precision\n",
    "import matplotlib.pyplot as plt\n",
    "import numpy as np\n",
    "from matplotlib.cm import viridis\n",
    "from DeepFMKit.plotting import default_rc\n",
    "plt.rcParams.update(default_rc)"
   ]
  },
  {
   "cell_type": "code",
   "execution_count": null,
   "id": "019066e3",
   "metadata": {},
   "outputs": [],
   "source": [
    "\n",
    "def plot_precision_vs_ndata():\n",
    "    \"\"\"\n",
    "    Plots the statistical uncertainty in 'm' as a function of the number of\n",
    "    harmonics used in the fit.\n",
    "    \"\"\"\n",
    "    # --- Analysis Parameters ---\n",
    "    snr_db_fixed = 80.0\n",
    "    m_range = np.linspace(0.1, 30.0, 500)\n",
    "    ndata_range = np.arange(3, 31)\n",
    "    \n",
    "    # --- Plotting Setup ---\n",
    "    fig, ax = plt.subplots(figsize=(6, 3), dpi=300)\n",
    "    colors = viridis(np.linspace(0, 1, len(ndata_range)))\n",
    "\n",
    "    print(\"Calculating uncertainty for different numbers of harmonics...\")\n",
    "    for i, ndata in enumerate(ndata_range):\n",
    "        delta_m = calculate_m_precision(m_range, ndata, snr_db_fixed)\n",
    "        ax.semilogy(m_range, delta_m, color=colors[i], label=f'ndata = {ndata}')\n",
    "\n",
    "    # --- Aesthetics ---\n",
    "    ax.set_xlabel('Modulation Depth (m)')\n",
    "    ax.set_ylabel(r'Statistical Uncertainty ($\\delta m$)')\n",
    "    ax.set_title(f'DFMI Precision vs. Number of Harmonics (SNR = {snr_db_fixed} dB)')\n",
    "    ax.grid(True, which='both', linestyle=':')\n",
    "    # ax.set_ylim(1e-7, 1e-2) # Set a reasonable y-axis limit\n",
    "    \n",
    "    # Create a colorbar for the legend\n",
    "    sm = plt.cm.ScalarMappable(cmap=viridis, norm=plt.Normalize(vmin=ndata_range.min(), vmax=ndata_range.max()))\n",
    "    sm.set_array([])\n",
    "    cbar = fig.colorbar(sm, ax=ax, ticks=ndata_range[::3]) # Show ticks every 3rd value\n",
    "    cbar.set_label('Number of Harmonics (ndata)', rotation=270, labelpad=20)\n",
    "\n",
    "    plt.tight_layout()\n",
    "    return ax\n",
    "\n",
    "ax = plot_precision_vs_ndata()\n",
    "ax.set_ylim(0,1e-2)\n",
    "plt.show()"
   ]
  },
  {
   "cell_type": "code",
   "execution_count": null,
   "id": "fa2872c5",
   "metadata": {},
   "outputs": [],
   "source": [
    "def plot_precision_vs_snr(ndata):\n",
    "    \"\"\"\n",
    "    Plots the statistical uncertainty in 'm' as a function of the signal-to-noise\n",
    "    ratio (SNR) of the measurement.\n",
    "    \"\"\"\n",
    "    # --- Analysis Parameters ---\n",
    "    ndata_fixed = ndata\n",
    "    m_range = np.linspace(1.0, 30.0, 500)\n",
    "    snr_db_range = np.linspace(20, 100, 11) # From 40 dB to 100 dB\n",
    "    \n",
    "    # --- Plotting Setup ---\n",
    "    fig, ax = plt.subplots(figsize=(12, 7))\n",
    "    colors = viridis(np.linspace(0, 1, len(snr_db_range)))\n",
    "\n",
    "    print(\"Calculating uncertainty for different SNR values...\")\n",
    "    for i, snr_db in enumerate(snr_db_range):\n",
    "        delta_m = calculate_m_precision(m_range, ndata_fixed, snr_db)\n",
    "        ax.semilogy(m_range, delta_m, color=colors[i], label=f'SNR = {snr_db} dB')\n",
    "        ax.axhline(y=np.sqrt(8)/10**(snr_db/20))\n",
    "\n",
    "    # --- Aesthetics ---\n",
    "    ax.set_xlabel('Modulation Depth (m)', fontsize=14)\n",
    "    ax.set_ylabel(r'Statistical Uncertainty ($\\delta m$)', fontsize=14)\n",
    "    ax.set_title(f'DFMI Precision vs. Signal-to-Noise Ratio (ndata = {ndata_fixed})', fontsize=16)\n",
    "    ax.grid(True, which='both', linestyle=':')\n",
    "    # ax.set_ylim(1e-8, 1e-2)\n",
    "    ax.legend(loc='upper right')\n",
    "    \n",
    "    plt.tight_layout()\n",
    "    plt.show()\n",
    "\n",
    "if __name__ == '__main__':\n",
    "    plot_precision_vs_snr(100)"
   ]
  },
  {
   "cell_type": "code",
   "execution_count": null,
   "id": "56abc9fd",
   "metadata": {},
   "outputs": [],
   "source": []
  }
 ],
 "metadata": {
  "kernelspec": {
   "display_name": "main",
   "language": "python",
   "name": "python3"
  },
  "language_info": {
   "codemirror_mode": {
    "name": "ipython",
    "version": 3
   },
   "file_extension": ".py",
   "mimetype": "text/x-python",
   "name": "python",
   "nbconvert_exporter": "python",
   "pygments_lexer": "ipython3",
   "version": "3.12.0"
  }
 },
 "nbformat": 4,
 "nbformat_minor": 5
}
