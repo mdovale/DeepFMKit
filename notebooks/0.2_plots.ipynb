{
 "cells": [
  {
   "cell_type": "code",
   "execution_count": null,
   "id": "e509c28f",
   "metadata": {},
   "outputs": [],
   "source": [
    "from DeepFMKit.core import DeepFitFramework\n",
    "from DeepFMKit.plotting import default_rc\n",
    "from DeepFMKit.experiments import Experiment\n",
    "import numpy as np\n",
    "\n",
    "import matplotlib.pyplot as plt\n",
    "plt.rcParams.update(default_rc)"
   ]
  },
  {
   "cell_type": "code",
   "execution_count": null,
   "id": "b37e5acd",
   "metadata": {},
   "outputs": [],
   "source": [
    "dff = DeepFitFramework(raw_file='../test/raw_data.txt', raw_labels=['raw1'])\n",
    "dff.fit('raw1', n=20)"
   ]
  },
  {
   "cell_type": "code",
   "execution_count": null,
   "id": "a33d8bd1",
   "metadata": {},
   "outputs": [],
   "source": [
    "axes = dff.plot()\n",
    "plt.show()"
   ]
  },
  {
   "cell_type": "code",
   "execution_count": null,
   "id": "8fbfc9a5",
   "metadata": {},
   "outputs": [],
   "source": [
    "axs = dff.plot(which=['phi','m'], figsize=(5,2), lw=1, c='tomato')\n",
    "plt.show()"
   ]
  },
  {
   "cell_type": "code",
   "execution_count": null,
   "id": "d92fceeb",
   "metadata": {},
   "outputs": [],
   "source": [
    "ax = dff.raws['raw1'].plot(figsize=(5,3), xrange=[0,0.01], c='lime')\n",
    "ax.grid(False)\n",
    "plt.show()"
   ]
  },
  {
   "cell_type": "code",
   "execution_count": null,
   "id": "9fb53cda",
   "metadata": {},
   "outputs": [],
   "source": [
    "from matplotlib.ticker import FuncFormatter\n",
    "from DeepFMKit import physics\n",
    "from DeepFMKit.helpers import set_laser_df_for_effect\n",
    "\n",
    "cycles = 1\n",
    "f_samp = 200e3\n",
    "f_mod = 1e3\n",
    "m = 7.2\n",
    "\n",
    "laser = physics.LaserConfig()\n",
    "laser.f_mod = f_mod\n",
    "\n",
    "ifo = physics.InterferometerConfig()\n",
    "ifo.ref_arml = 0.15\n",
    "ifo.meas_arml = 0.2\n",
    "ifo.phi = 0.0\n",
    "\n",
    "main = physics.DFMIObject(label='Hello', laser_config=laser, ifo_config=ifo, f_samp=f_samp)\n",
    "\n",
    "set_laser_df_for_effect(laser, ifo, m)\n",
    "\n",
    "laser.psi = np.pi/3\n",
    "ifo.phi = np.pi/3\n",
    "\n",
    "ax = main.plot_harmonics(N=10)\n",
    "plt.show()"
   ]
  },
  {
   "cell_type": "code",
   "execution_count": null,
   "id": "2b701319",
   "metadata": {},
   "outputs": [],
   "source": [
    "sg = physics.SignalGenerator()\n",
    "\n",
    "fig, ax = plt.subplots(figsize=(3.375, 1.8), dpi=150)\n",
    "raw = sg.generate(main, n_seconds=cycles/f_mod, mode='snr', snr_db=100)['main']\n",
    "ax = raw.plot(ax=ax, ls='-', lw=1.0)\n",
    "\n",
    "ax.set_ylabel('Voltage (a.u.)')\n",
    "ax.xaxis.set_major_formatter(FuncFormatter(lambda x, _: f\"{x * 1e3:.1f}\"))\n",
    "ax.set_xlabel('Time (ms)')\n",
    "ax.grid(False)\n",
    "\n",
    "plt.show()"
   ]
  },
  {
   "cell_type": "code",
   "execution_count": null,
   "id": "d7e685c5",
   "metadata": {},
   "outputs": [],
   "source": []
  }
 ],
 "metadata": {
  "kernelspec": {
   "display_name": "main",
   "language": "python",
   "name": "python3"
  },
  "language_info": {
   "codemirror_mode": {
    "name": "ipython",
    "version": 3
   },
   "file_extension": ".py",
   "mimetype": "text/x-python",
   "name": "python",
   "nbconvert_exporter": "python",
   "pygments_lexer": "ipython3",
   "version": "3.12.0"
  }
 },
 "nbformat": 4,
 "nbformat_minor": 5
}
