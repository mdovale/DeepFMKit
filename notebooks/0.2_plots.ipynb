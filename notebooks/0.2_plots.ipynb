{
 "cells": [
  {
   "cell_type": "code",
   "execution_count": null,
   "id": "e509c28f",
   "metadata": {},
   "outputs": [],
   "source": [
    "from DeepFMKit.core import DeepFitFramework\n",
    "from DeepFMKit.plotting import default_rc\n",
    "from DeepFMKit.experiments import Experiment\n",
    "import numpy as np\n",
    "\n",
    "import matplotlib.pyplot as plt\n",
    "plt.rcParams.update(default_rc)"
   ]
  },
  {
   "cell_type": "code",
   "execution_count": null,
   "id": "b37e5acd",
   "metadata": {},
   "outputs": [],
   "source": [
    "dff = DeepFitFramework(raw_file='../test/raw_data.txt', raw_labels=['raw1'])\n",
    "dff.fit('raw1', n=20)"
   ]
  },
  {
   "cell_type": "code",
   "execution_count": null,
   "id": "a33d8bd1",
   "metadata": {},
   "outputs": [],
   "source": [
    "axes = dff.plot()\n",
    "plt.show()"
   ]
  },
  {
   "cell_type": "code",
   "execution_count": null,
   "id": "8fbfc9a5",
   "metadata": {},
   "outputs": [],
   "source": [
    "ax = dff.plot(which='m', figsize=(5,2), lw=1, ls='--', c='tomato')\n",
    "ax.legend()\n",
    "plt.show()"
   ]
  },
  {
   "cell_type": "code",
   "execution_count": null,
   "id": "d92fceeb",
   "metadata": {},
   "outputs": [],
   "source": [
    "ax = dff.raws['raw1'].plot(figsize=(5,3), xrange=[0,0.01], c='lime')\n",
    "ax.grid(False)\n",
    "plt.show()"
   ]
  },
  {
   "cell_type": "code",
   "execution_count": null,
   "id": "9fb53cda",
   "metadata": {},
   "outputs": [],
   "source": []
  }
 ],
 "metadata": {
  "kernelspec": {
   "display_name": "main",
   "language": "python",
   "name": "python3"
  },
  "language_info": {
   "codemirror_mode": {
    "name": "ipython",
    "version": 3
   },
   "file_extension": ".py",
   "mimetype": "text/x-python",
   "name": "python",
   "nbconvert_exporter": "python",
   "pygments_lexer": "ipython3",
   "version": "3.12.0"
  }
 },
 "nbformat": 4,
 "nbformat_minor": 5
}
