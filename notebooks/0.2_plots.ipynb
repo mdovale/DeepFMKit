{
 "cells": [
  {
   "cell_type": "code",
   "execution_count": null,
   "id": "e509c28f",
   "metadata": {},
   "outputs": [],
   "source": [
    "from DeepFMKit.core import DeepFitFramework\n",
    "from DeepFMKit.plotting import default_rc\n",
    "from DeepFMKit.experiments import Experiment\n",
    "import numpy as np\n",
    "\n",
    "import matplotlib.pyplot as plt\n",
    "plt.rcParams.update(default_rc)"
   ]
  },
  {
   "cell_type": "code",
   "execution_count": null,
   "id": "b37e5acd",
   "metadata": {},
   "outputs": [],
   "source": [
    "dff = DeepFitFramework(raw_file='../test/raw_data.txt', raw_labels=['raw1'])\n",
    "dff.fit('raw1', n=20)"
   ]
  },
  {
   "cell_type": "code",
   "execution_count": null,
   "id": "a33d8bd1",
   "metadata": {},
   "outputs": [],
   "source": [
    "axes = dff.plot()\n",
    "plt.show()"
   ]
  },
  {
   "cell_type": "code",
   "execution_count": null,
   "id": "d92fceeb",
   "metadata": {},
   "outputs": [],
   "source": [
    "ax = dff.raws['raw1'].plot(xrange=[0,0.01])\n",
    "plt.show()"
   ]
  },
  {
   "cell_type": "code",
   "execution_count": null,
   "id": "819c0486",
   "metadata": {},
   "outputs": [],
   "source": [
    "\"\"\"Defines, runs, and plots a 2D experiment with the final runner API.\"\"\"\n",
    "exp2d = Experiment(description=\"2D Sweep of Modulation and IFO Phase\")\n",
    "\n",
    "# Define the two axes to sweep\n",
    "exp2d.add_axis('psi', np.linspace(-np.pi, np.pi, 25))\n",
    "exp2d.add_axis('ifo_phi', np.linspace(-np.pi, np.pi, 25))\n",
    "\n",
    "# Define fixed physical parameters\n",
    "exp2d.set_static({'m_target': 6.0, 'opd': 0.2})\n",
    "\n",
    "# Map the experimental variables to their corresponding object attributes\n",
    "exp2d.map_parameter(name='psi', target_object='laser_config', target_attribute='psi')\n",
    "exp2d.map_parameter(name='ifo_phi', target_object='main_ifo_config', target_attribute='phi')\n",
    "\n",
    "# Define the analysis to run. All standard fit parameters will be extracted.\n",
    "exp2d.add_analysis(\n",
    "    name='nls_fit',\n",
    "    fitter_method='nls',\n",
    "    fitter_kwargs={'ndata': 15, 'parallel': False}\n",
    ")\n",
    "\n",
    "# Run the experiment\n",
    "results = exp2d.run()\n",
    "\n",
    "# Plot the results for the 'phi' parameter from the 'nls_fit' analysis\n",
    "ax = exp2d.plot(analysis_name='nls_fit', param_to_plot='phi', stat='mean')\n",
    "ax.set_xlabel(r'Input Modulation Phase, $\\psi_{\\rm in}$ (rad)')\n",
    "ax.set_ylabel(r'Input IFO Phase, $\\phi_{\\rm in}$ (rad)')\n",
    "ax.figure.get_axes()[1].set_ylabel(r'Fitted IFO Phase, $\\hat{\\phi}$ (rad)') # Colorbar label\n",
    "plt.show()"
   ]
  },
  {
   "cell_type": "code",
   "execution_count": null,
   "id": "cf016f9c",
   "metadata": {},
   "outputs": [],
   "source": []
  }
 ],
 "metadata": {
  "kernelspec": {
   "display_name": "main",
   "language": "python",
   "name": "python3"
  },
  "language_info": {
   "codemirror_mode": {
    "name": "ipython",
    "version": 3
   },
   "file_extension": ".py",
   "mimetype": "text/x-python",
   "name": "python",
   "nbconvert_exporter": "python",
   "pygments_lexer": "ipython3",
   "version": "3.12.0"
  }
 },
 "nbformat": 4,
 "nbformat_minor": 5
}
