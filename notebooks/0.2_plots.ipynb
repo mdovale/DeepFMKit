{
 "cells": [
  {
   "cell_type": "code",
   "execution_count": null,
   "id": "e509c28f",
   "metadata": {},
   "outputs": [],
   "source": [
    "from DeepFMKit.core import DeepFitFramework\n",
    "from DeepFMKit.plotting import default_rc\n",
    "from DeepFMKit.experiments import Experiment\n",
    "import numpy as np\n",
    "\n",
    "import matplotlib.pyplot as plt\n",
    "plt.rcParams.update(default_rc)"
   ]
  },
  {
   "cell_type": "code",
   "execution_count": null,
   "id": "b37e5acd",
   "metadata": {},
   "outputs": [],
   "source": [
    "dff = DeepFitFramework(raw_file='../test/raw_data.txt', raw_labels=['raw1'])\n",
    "dff.fit('raw1', n=20)"
   ]
  },
  {
   "cell_type": "code",
   "execution_count": null,
   "id": "a33d8bd1",
   "metadata": {},
   "outputs": [],
   "source": [
    "axes = dff.plot()\n",
    "plt.show()"
   ]
  },
  {
   "cell_type": "code",
   "execution_count": null,
   "id": "d92fceeb",
   "metadata": {},
   "outputs": [],
   "source": [
    "ax = dff.raws['raw1'].plot(xrange=[0,0.01])\n",
    "plt.show()"
   ]
  },
  {
   "cell_type": "code",
   "execution_count": null,
   "id": "819c0486",
   "metadata": {},
   "outputs": [],
   "source": [
    "import numpy as np\n",
    "import matplotlib.pyplot as plt\n",
    "from scipy import constants as sc\n",
    "\n",
    "from DeepFMKit import physics\n",
    "from DeepFMKit.experiments import Experiment \n",
    "\n",
    "def create_phase_sweep_configs(params: dict) -> dict:\n",
    "    \"\"\"\n",
    "    Takes a dictionary of trial parameters and returns the fully configured\n",
    "    physics objects for the 2D phase sweep experiment.\n",
    "    \"\"\"\n",
    "    # Get parameters for this specific trial\n",
    "    m_target = params['m_target']\n",
    "    opd = params['opd']\n",
    "    psi = params['psi']\n",
    "    ifo_phi = params['ifo_phi']\n",
    "\n",
    "    # Create and configure the physics objects\n",
    "    laser_config = physics.LaserConfig()\n",
    "    main_ifo_config = physics.InterferometerConfig()\n",
    "\n",
    "    laser_config.df = (m_target * sc.c) / (2 * np.pi * opd)\n",
    "    laser_config.psi = psi\n",
    "    main_ifo_config.phi = ifo_phi\n",
    "    \n",
    "    # Return the configured objects in a dictionary\n",
    "    return {\n",
    "        'laser_config': laser_config,\n",
    "        'main_ifo_config': main_ifo_config\n",
    "    }\n",
    "\n",
    "# --- 1. Declaratively Define the Experiment ---\n",
    "exp = Experiment(description=\"2D Sweep of Modulation and IFO Phase\")\n",
    "\n",
    "# Define the two axes to sweep\n",
    "exp.add_axis('psi', np.linspace(-np.pi, np.pi, 25))\n",
    "exp.add_axis('ifo_phi', np.linspace(-np.pi, np.pi, 25))\n",
    "\n",
    "# Define fixed physical parameters\n",
    "exp.set_static({'m_target': 6.0, 'opd': 0.2})\n",
    "\n",
    "# Tell the experiment which function to use to create the physics configs\n",
    "exp.set_config_factory(create_phase_sweep_configs)\n",
    "\n",
    "# Define the analysis to run. All standard fit parameters will be extracted.\n",
    "exp.add_analysis(\n",
    "    name='nls_fit',\n",
    "    fitter_method='nls',\n",
    "    fitter_kwargs={'ndata': 15, 'parallel': False}\n",
    ")\n",
    "\n",
    "print(\"Experiment configured successfully.\")\n",
    "\n",
    "# --- 2. Run the Experiment ---\n",
    "# The .run() method handles all the parallelization and result aggregation.\n",
    "if __name__ == \"__main__\":\n",
    "    results = exp.run()"
   ]
  },
  {
   "cell_type": "code",
   "execution_count": null,
   "id": "cf016f9c",
   "metadata": {},
   "outputs": [],
   "source": [
    "# The built-in .plot() method is perfect for this standard 2D analysis\n",
    "ax = exp.plot(analysis_name='nls_fit', param_to_plot='phi', stat='mean')\n",
    "\n",
    "# Customize the labels for publication-quality output\n",
    "ax.set_xlabel(r'Input Modulation Phase, $\\psi_{\\rm in}$ (rad)')\n",
    "ax.set_ylabel(r'Input IFO Phase, $\\phi_{\\rm in}$ (rad)')\n",
    "\n",
    "# Access the colorbar axis to set its label\n",
    "cbar_ax = ax.figure.get_axes()[1]\n",
    "cbar_ax.set_ylabel(r'Fitted IFO Phase, $\\hat{\\phi}$ (rad)', fontsize=14)\n",
    "\n",
    "plt.show()"
   ]
  },
  {
   "cell_type": "code",
   "execution_count": null,
   "id": "9fb53cda",
   "metadata": {},
   "outputs": [],
   "source": []
  }
 ],
 "metadata": {
  "kernelspec": {
   "display_name": "main",
   "language": "python",
   "name": "python3"
  },
  "language_info": {
   "codemirror_mode": {
    "name": "ipython",
    "version": 3
   },
   "file_extension": ".py",
   "mimetype": "text/x-python",
   "name": "python",
   "nbconvert_exporter": "python",
   "pygments_lexer": "ipython3",
   "version": "3.12.0"
  }
 },
 "nbformat": 4,
 "nbformat_minor": 5
}
