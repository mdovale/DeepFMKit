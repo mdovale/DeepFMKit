{
 "cells": [
  {
   "cell_type": "code",
   "execution_count": null,
   "id": "234c14c5",
   "metadata": {},
   "outputs": [],
   "source": [
    "from DeepFMKit.core import DeepFitFramework"
   ]
  },
  {
   "cell_type": "code",
   "execution_count": null,
   "id": "8793b48b",
   "metadata": {},
   "outputs": [],
   "source": [
    "dff = DeepFitFramework()\n",
    "\n",
    "label = \"dynamic\"\n",
    "dff.new_sim(label)\n",
    "dff.sims[label].m = 6.0\n",
    "dff.sims[label].f_mod = 1000\n",
    "dff.sims[label].f_samp = int(200e3)\n",
    "dff.sims[label].f_n = 1e6\n",
    "dff.sims[label].arml_mod_f = 1.0\n",
    "dff.sims[label].arml_mod_amp = 1e-9\n",
    "dff.sims[label].arml_mod_n = 1e-12\n",
    "dff.sims[label].fit_n = 10\n",
    "\n",
    "dff.simulate(label, n_seconds=10, simulate=\"dynamic\", ref_channel=True)\n",
    "\n",
    "dff.sims[label].info()"
   ]
  },
  {
   "cell_type": "code",
   "execution_count": null,
   "id": "64565eec",
   "metadata": {},
   "outputs": [],
   "source": [
    "for i, key in enumerate(dff.sims):\n",
    "    dff.fit(label=key, fit_label=f'ch{i}', use_c_core=False)"
   ]
  },
  {
   "cell_type": "code",
   "execution_count": null,
   "id": "688da10c",
   "metadata": {},
   "outputs": [],
   "source": [
    "dff.plot()"
   ]
  },
  {
   "cell_type": "code",
   "execution_count": null,
   "id": "549581bd",
   "metadata": {},
   "outputs": [],
   "source": []
  }
 ],
 "metadata": {
  "kernelspec": {
   "display_name": "main",
   "language": "python",
   "name": "python3"
  },
  "language_info": {
   "codemirror_mode": {
    "name": "ipython",
    "version": 3
   },
   "file_extension": ".py",
   "mimetype": "text/x-python",
   "name": "python",
   "nbconvert_exporter": "python",
   "pygments_lexer": "ipython3",
   "version": "3.12.0"
  }
 },
 "nbformat": 4,
 "nbformat_minor": 5
}
