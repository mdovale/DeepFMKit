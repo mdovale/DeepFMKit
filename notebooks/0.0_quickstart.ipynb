{
 "cells": [
  {
   "cell_type": "code",
   "execution_count": null,
   "id": "234c14c5",
   "metadata": {},
   "outputs": [],
   "source": [
    "import DeepFMKit.core as dfm\n",
    "import matplotlib.pyplot as plt\n",
    "\n",
    "# Instantiate the main framework\n",
    "dff = dfm.DeepFitFramework()\n",
    "\n",
    "# --- 1. Define the Laser Source ---\n",
    "laser = dfm.LaserConfig(label=\"main_laser\")\n",
    "laser.f_mod = 1000 # Modulation frequency (Hz)\n",
    "\n",
    "# --- 2. Define the Main Interferometer ---\n",
    "ifo = dfm.InterferometerConfig(label=\"dynamic_ifo\")\n",
    "ifo.ref_arml = 0.1 # Reference arm length (m)\n",
    "ifo.meas_arml = 0.3 # Measurement arm length (m)\n",
    "\n",
    "# --- 3. Set Modulation Depth by Adjusting Laser's `df` ---\n",
    "m_target = 10*3.14 # Target effective modulation index (rad)\n",
    "dfm.set_laser_df_for_effect(laser, ifo, m_target)\n",
    "\n",
    "# --- 4. Compose the Main Channel ---\n",
    "label = \"dynamic_channel\"\n",
    "sim_obj = dfm.DFMIObject(\n",
    "    label=label,\n",
    "    laser_config=laser,\n",
    "    ifo_config=ifo,\n",
    "    f_samp=200e3 # Sampling frequency (Hz)\n",
    ")\n",
    "dff.load_sim(sim_obj)\n",
    "\n",
    "# --- 6. Simulate ---\n",
    "dff.simulate(\n",
    "    main_label=label,\n",
    "    n_seconds=10, # Simulation length in seconds\n",
    "    mode='snr',\n",
    "    snr_db=40\n",
    ")\n",
    "\n",
    "# --- 7. Analyze and Plot ---\n",
    "print(\"\\n--- Configuration Summaries ---\")\n",
    "dff.sims[label].info()\n",
    "\n",
    "print(\"\\n--- Fitting Channels ---\")\n",
    "dff.fit(label, ndata=int(2*m_target))\n",
    "\n",
    "print(\"\\n--- Plotting Results ---\")\n",
    "axs = dff.plot()\n",
    "plt.show()"
   ]
  },
  {
   "cell_type": "code",
   "execution_count": null,
   "id": "9e88a89d",
   "metadata": {},
   "outputs": [],
   "source": []
  },
  {
   "cell_type": "code",
   "execution_count": null,
   "id": "21ac2058",
   "metadata": {},
   "outputs": [],
   "source": []
  }
 ],
 "metadata": {
  "kernelspec": {
   "display_name": "pycbc311",
   "language": "python",
   "name": "python3"
  },
  "language_info": {
   "codemirror_mode": {
    "name": "ipython",
    "version": 3
   },
   "file_extension": ".py",
   "mimetype": "text/x-python",
   "name": "python",
   "nbconvert_exporter": "python",
   "pygments_lexer": "ipython3",
   "version": "3.11.0"
  }
 },
 "nbformat": 4,
 "nbformat_minor": 5
}
