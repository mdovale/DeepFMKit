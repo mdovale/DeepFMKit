{
 "cells": [
  {
   "cell_type": "code",
   "execution_count": null,
   "id": "234c14c5",
   "metadata": {},
   "outputs": [],
   "source": [
    "from DeepFMKit.core import DeepFitFramework\n",
    "import matplotlib.pyplot as plt\n",
    "\n",
    "dff = DeepFitFramework()\n",
    "\n",
    "# Create a `DeepSimObject` describing an interferometer\n",
    "label = \"dynamic\"\n",
    "dff.new_sim(label)\n",
    "dff.sims[label].m = 6.0 # Effective modulation index\n",
    "dff.sims[label].f_mod = 1000 # Modulation frequency\n",
    "dff.sims[label].f_samp = int(200e3) # Sampling frequency in Hz\n",
    "dff.sims[label].f_n = 1e6 # Frequency noise ASD\n",
    "dff.sims[label].arml_mod_f = 1.0 # Frequency of the dynamic armlength\n",
    "dff.sims[label].arml_mod_amp = 1e-9 # Motion of the dynamic armlength\n",
    "dff.sims[label].arml_mod_n = 1e-12 # Noise on the dynamic armlength\n",
    "dff.sims[label].fit_n = 10 # Number of harmonics to fit\n",
    "dff.sims[label].amp_n = 1e-2 # Amplitude noise\n",
    "\n",
    "# Simulate DFM interferometer with test mass motion and a reference channel\n",
    "dff.simulate(label, n_seconds=10, simulate=\"dynamic\", ref_channel=True)\n",
    "\n",
    "# Print system information\n",
    "dff.sims[label].info()\n",
    "\n",
    "# Perform non-linear least squares fitting on data\n",
    "for i, key in enumerate(dff.sims):\n",
    "    dff.fit(label=key, fit_label=f'ch{i}')\n",
    "\n",
    "# Plot results\n",
    "ax = dff.plot()\n",
    "plt.show()"
   ]
  },
  {
   "cell_type": "code",
   "execution_count": null,
   "id": "9e88a89d",
   "metadata": {},
   "outputs": [],
   "source": []
  }
 ],
 "metadata": {
  "kernelspec": {
   "display_name": "main",
   "language": "python",
   "name": "python3"
  },
  "language_info": {
   "codemirror_mode": {
    "name": "ipython",
    "version": 3
   },
   "file_extension": ".py",
   "mimetype": "text/x-python",
   "name": "python",
   "nbconvert_exporter": "python",
   "pygments_lexer": "ipython3",
   "version": "3.12.0"
  }
 },
 "nbformat": 4,
 "nbformat_minor": 5
}
